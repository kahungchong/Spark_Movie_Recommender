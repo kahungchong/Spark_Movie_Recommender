{
 "cells": [
  {
   "cell_type": "code",
   "execution_count": 5,
   "metadata": {},
   "outputs": [],
   "source": [
    "sql_password=\"Myiphone5s\""
   ]
  },
  {
   "cell_type": "code",
   "execution_count": 6,
   "metadata": {},
   "outputs": [],
   "source": [
    "import pyspark\n",
    "from pyspark import SparkContext\n",
    "from pyspark.sql import SQLContext\n",
    "import sys\n",
    "try:\n",
    "    sc.stop()\n",
    "except:\n",
    "    pass\n",
    "sc = SparkContext(appName=\"mysql_movie\")\n",
    "sqlContext = SQLContext(sc)"
   ]
  },
  {
   "cell_type": "code",
   "execution_count": 7,
   "metadata": {
    "scrolled": false
   },
   "outputs": [
    {
     "name": "stdout",
     "output_type": "stream",
     "text": [
      "+-------+--------------------+--------------------+\n",
      "|movieId|               title|              genres|\n",
      "+-------+--------------------+--------------------+\n",
      "|      0|               title|             genres\r",
      "|\n",
      "|      1|    Toy Story (1995)|Adventure|Animati...|\n",
      "|      2|      Jumanji (1995)|Adventure|Childre...|\n",
      "|      3|Grumpier Old Men ...|     Comedy|Romance\r",
      "|\n",
      "|      4|Waiting to Exhale...|Comedy|Drama|Roma...|\n",
      "|      5|Father of the Bri...|             Comedy\r",
      "|\n",
      "|      6|         Heat (1995)|Action|Crime|Thri...|\n",
      "|      7|      Sabrina (1995)|     Comedy|Romance\r",
      "|\n",
      "|      8| Tom and Huck (1995)| Adventure|Children\r",
      "|\n",
      "|      9| Sudden Death (1995)|             Action\r",
      "|\n",
      "|     10|    GoldenEye (1995)|Action|Adventure|...|\n",
      "|     11|American Presiden...|Comedy|Drama|Roma...|\n",
      "|     12|Dracula: Dead and...|      Comedy|Horror\r",
      "|\n",
      "|     13|        Balto (1995)|Adventure|Animati...|\n",
      "|     14|        Nixon (1995)|              Drama\r",
      "|\n",
      "|     15|Cutthroat Island ...|Action|Adventure|...|\n",
      "|     16|       Casino (1995)|        Crime|Drama\r",
      "|\n",
      "|     17|Sense and Sensibi...|      Drama|Romance\r",
      "|\n",
      "|     18|   Four Rooms (1995)|             Comedy\r",
      "|\n",
      "|     19|Ace Ventura: When...|             Comedy\r",
      "|\n",
      "+-------+--------------------+--------------------+\n",
      "only showing top 20 rows\n",
      "\n"
     ]
    }
   ],
   "source": [
    "df=sqlContext.read.format(\"jdbc\").options(url=\"jdbc:mysql://localhost:3306/MovieDB\",\n",
    "                                       driver=\"com.mysql.jdbc.Driver\",\n",
    "                                       dbtable=\"movies\",user=\"root\",password=sql_password).load()\n",
    "df.show()\n",
    "sc.stop()"
   ]
  },
  {
   "cell_type": "code",
   "execution_count": null,
   "metadata": {},
   "outputs": [],
   "source": []
  },
  {
   "cell_type": "code",
   "execution_count": null,
   "metadata": {},
   "outputs": [],
   "source": []
  }
 ],
 "metadata": {
  "kernelspec": {
   "display_name": "Python [conda env:spark]",
   "language": "python",
   "name": "conda-env-spark-py"
  },
  "language_info": {
   "codemirror_mode": {
    "name": "ipython",
    "version": 3
   },
   "file_extension": ".py",
   "mimetype": "text/x-python",
   "name": "python",
   "nbconvert_exporter": "python",
   "pygments_lexer": "ipython3",
   "version": "3.6.8"
  }
 },
 "nbformat": 4,
 "nbformat_minor": 2
}
